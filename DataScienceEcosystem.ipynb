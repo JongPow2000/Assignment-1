{
 "cells": [
  {
   "cell_type": "markdown",
   "id": "90c18fc1-776c-46de-9bda-5141851a269d",
   "metadata": {},
   "source": [
    "# Data Science Tools and Ecosystem"
   ]
  },
  {
   "cell_type": "markdown",
   "id": "7d5e5877-9161-4071-b364-1df4dca1a764",
   "metadata": {},
   "source": [
    "In this notebook, Data Science Tools and Ecosystem are summarized."
   ]
  },
  {
   "cell_type": "markdown",
   "id": "cbf27fe1-384e-4f27-af89-0b1b066a7064",
   "metadata": {},
   "source": [
    "Some of the popular languages that Data Scientists use are:\n",
    "1. Python\n",
    "2. R\n",
    "3. Julia"
   ]
  },
  {
   "cell_type": "markdown",
   "id": "244b931e-cc17-4b13-b357-bf804156b4ed",
   "metadata": {},
   "source": [
    "Some of the commonly used libraries used by Data Scientists include:\n",
    "1. GGplot\n",
    "2. Dplyr\n",
    "3. Lattice"
   ]
  },
  {
   "cell_type": "markdown",
   "id": "00c6ebfc-1d66-42d7-961c-d0fd28fae7c7",
   "metadata": {},
   "source": [
    "| Data Science Tools |\n",
    "|--------|\n",
    "| Jupyter Notebook      |\n",
    "| Rstudio      |\n",
    "| Spyder     |"
   ]
  },
  {
   "cell_type": "markdown",
   "id": "2f1c1671-b50a-4970-bf4c-ebe72f8e75ad",
   "metadata": {},
   "source": [
    "### Below are a few examples of evaluating arithmetic expressions in Python"
   ]
  },
  {
   "cell_type": "code",
   "execution_count": 3,
   "id": "7a0c8287-dd8b-4add-9ea7-0b1f42f5ef90",
   "metadata": {},
   "outputs": [
    {
     "data": {
      "text/plain": [
       "17"
      ]
     },
     "execution_count": 3,
     "metadata": {},
     "output_type": "execute_result"
    }
   ],
   "source": [
    "(3*4)+5\n",
    "# This a simple arithmetic expression to mutiply then add integers"
   ]
  },
  {
   "cell_type": "code",
   "execution_count": 4,
   "id": "fb61433c-511f-4cfb-9ff4-24f02cdce9d2",
   "metadata": {},
   "outputs": [
    {
     "data": {
      "text/plain": [
       "3.3333333333333335"
      ]
     },
     "execution_count": 4,
     "metadata": {},
     "output_type": "execute_result"
    }
   ],
   "source": [
    "# This will convert 200 minutes to hours by diving by 60\n",
    "200/60"
   ]
  },
  {
   "cell_type": "markdown",
   "id": "7926f38c-1782-412f-a376-35ef11648bfb",
   "metadata": {},
   "source": [
    "**Objectives:**\n",
    "* Jupyter Notebook is an open source tool for data science.\n",
    "* Pysthon and R are languages for data science.\n",
    "* GGplot is great for making visualizations."
   ]
  },
  {
   "cell_type": "markdown",
   "id": "25d62704-3c69-4616-b337-0570956e8bf7",
   "metadata": {},
   "source": [
    "## Author\n",
    "Christian Hultgren"
   ]
  }
 ],
 "metadata": {
  "kernelspec": {
   "display_name": "Python 3 (ipykernel)",
   "language": "python",
   "name": "python3"
  },
  "language_info": {
   "codemirror_mode": {
    "name": "ipython",
    "version": 3
   },
   "file_extension": ".py",
   "mimetype": "text/x-python",
   "name": "python",
   "nbconvert_exporter": "python",
   "pygments_lexer": "ipython3",
   "version": "3.11.7"
  }
 },
 "nbformat": 4,
 "nbformat_minor": 5
}
